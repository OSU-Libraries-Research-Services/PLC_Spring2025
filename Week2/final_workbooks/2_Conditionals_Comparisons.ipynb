{
 "cells": [
  {
   "cell_type": "markdown",
   "id": "463fd7d3-53de-4b7c-b61e-559ad7b6528e",
   "metadata": {
    "user_expressions": []
   },
   "source": [
    "# Conditionals and Comparisons\n",
    "Conditionals allow you to control the flow of your program, based on whether a condition is True or False. This lesson focuses on the `if` statement.\n"
   ]
  },
  {
   "attachments": {},
   "cell_type": "markdown",
   "id": "fd69fef3-37ca-4181-ac8a-c4c1d41736a9",
   "metadata": {
    "user_expressions": []
   },
   "source": [
    "![Jordan_smaller.jpg](images/Jordan_smaller.jpg)\n",
    "\n",
    "- If Jordan is a black dog print his name\n",
    "- If Jordan is handsome say \"of course!\"\n",
    "- If Jordan likes cats say yes else say no."
   ]
  },
  {
   "cell_type": "code",
   "execution_count": null,
   "id": "bb9a41b8-4232-4efd-91eb-8099dede0ea8",
   "metadata": {
    "tags": []
   },
   "outputs": [],
   "source": [
    "#Step 1: Assign variables\n",
    "\n",
    "jordan_color='black'\n",
    "jordan_handsome='handsome'\n",
    "jordan_likes_cats=False\n",
    "\n",
    "#Step 2: Create if statements\n",
    "if jordan_color == 'black':\n",
    "    print('Jordan')\n",
    "    \n",
    "if jordan_handsome=='handsome':\n",
    "    print('of course!')\n",
    "    \n",
    "if jordan_likes_cats==True:\n",
    "    print('yes')\n",
    "else:\n",
    "    print('no')\n",
    "    "
   ]
  },
  {
   "cell_type": "markdown",
   "id": "2d340a2d-11d6-471d-94c2-49854fbc9efd",
   "metadata": {
    "user_expressions": []
   },
   "source": [
    "The first line of an `if statement` always starts with a *comparison* followed by a `:`. \n",
    "\n",
    "if jordan_likes_cats==True:\n",
    "\n",
    "The second line is the `conditional` statement that tells Python what to do. It is always indented.\n",
    "\n",
    "`\n",
    "    print('yes')`\n",
    "\n",
    "The `else` statement tells Python to do something else if the condition is not met.\n",
    "\n",
    "`else:`\\\n",
    "`    print('no')`\n",
    "\n",
    "Put together, we get:\n",
    "\n",
    "`if jordan_likes_cats==True:`\\\n",
    "`    print('yes')`\\\n",
    "`else:`\\\n",
    "`    print('no')`"
   ]
  },
  {
   "cell_type": "markdown",
   "id": "c7790bc2-a51f-4131-b9e7-8e1dd64a51e2",
   "metadata": {
    "user_expressions": []
   },
   "source": [
    "## Comparison Operators\n",
    "\n",
    "| **Comparison Operator** | **Explanation**                                                                                   |\n",
    "|:-------------:|:---------------------------------------------------------------------------------------------------:|\n",
    "| `x == y `         | `True` if x is equal to y                                                                                |\n",
    "| `x != y `         | `True` if x is not equal to y                                               |\n",
    "| `x > y`       |  `True` if x is greater than y                                                        |\n",
    "| `x < y`       |   `True` if x is less than y  \n",
    "| `x >= y`       |   `True` if x is greater than or equal to y |\n",
    "| `x <= y`      | `True` if x is less than or equal to y`                                                                             |\n",
    "                                                                      \n",
    "                                                           "
   ]
  },
  {
   "attachments": {},
   "cell_type": "markdown",
   "id": "4746a253-8387-4741-8df5-cc38e0f0a9f3",
   "metadata": {
    "tags": [],
    "user_expressions": []
   },
   "source": [
    "## Practice\n",
    "\n",
    "![Jordan_Friends.jpg](images/Jordan_Friends.jpg)"
   ]
  },
  {
   "cell_type": "code",
   "execution_count": null,
   "id": "5e7261d5-22c4-4591-826c-5cd2ee8ae0b7",
   "metadata": {
    "tags": []
   },
   "outputs": [],
   "source": [
    "jordan_age = 8\n",
    "lilah_age = 7 #Lilah is Jordan's best friend\n",
    "stanley_age = 6 #Stanley is Lilah's neighbor\n",
    "\n",
    "print('IS JORDAN OLDER THAN LILAH?')\n",
    "\n",
    "#VERIFY JORDAN'S AGE WITH A CONDITIONAL STATEMENT HERE\n",
    "if jordan_age > lilah_age:\n",
    "    print('yes')\n",
    "else:\n",
    "    print('no')\n",
    "\n"
   ]
  },
  {
   "cell_type": "code",
   "execution_count": null,
   "id": "f82c928c-d3b4-4d5b-b591-40ddf0751fb4",
   "metadata": {
    "jupyter": {
     "source_hidden": true
    }
   },
   "outputs": [],
   "source": [
    "#ARE JORDAN AND STANLEY THE SAME AGE?\n",
    "if jordan_age == stanley_age:\n",
    "    print('yes')\n",
    "else:\n",
    "    print('no')"
   ]
  },
  {
   "cell_type": "markdown",
   "id": "450e2491-dae1-44a5-b31b-292c8ca0a6fc",
   "metadata": {
    "user_expressions": []
   },
   "source": [
    "## Logical Operators\n",
    "\n",
    "We use the logical operators `and`, `or`, and `not` to check if two or more conditions are true.\n",
    "\n",
    "| **Logical Operator** | **Explanation**                                                                                   |\n",
    "|:-------------:|:---------------------------------------------------------------------------------------------------:|\n",
    "| `x and y `         | `True` if x and y are both True                                                                               |\n",
    "| `x or y `         | `True` if either x or y is True                                               |\n",
    "| `not y`       |  `True` if x is not True   \n"
   ]
  },
  {
   "cell_type": "code",
   "execution_count": null,
   "id": "e8e015e1-b8fb-4552-b95f-567d6bb0b4f8",
   "metadata": {
    "jupyter": {
     "source_hidden": true
    }
   },
   "outputs": [],
   "source": [
    "#ARE JORDAN AND STANELY YOUNGER THAN LILAH?\n",
    "\n",
    "if jordan_age < lilah_age and stanley_age < lilah_age:\n",
    "    print('yes')\n",
    "else:\n",
    "    print('no')\n",
    "\n",
    "#ARE STANLEY OR LILAH YOUNGER THAN JORDAN?\n",
    "if jordan_age < lilah_age or stanley_age < lilah_age:\n",
    "    print('yes')\n",
    "else:\n",
    "    print('no')"
   ]
  },
  {
   "attachments": {},
   "cell_type": "markdown",
   "id": "cbff8d10-1961-40f9-8d19-3dd6c44ab0fc",
   "metadata": {
    "user_expressions": []
   },
   "source": [
    "### Picture 1\n",
    "![Pink-piglet-1.jpg](images/Pink-piglet-1.jpg)"
   ]
  },
  {
   "attachments": {},
   "cell_type": "markdown",
   "id": "eb717004-04ea-45fb-b448-28168674669d",
   "metadata": {
    "user_expressions": []
   },
   "source": [
    "### Picture 2\n",
    "![guinea_pig.jpg](images/guinea_pig.jpg)"
   ]
  },
  {
   "cell_type": "code",
   "execution_count": null,
   "id": "9070ecc0-cbeb-457a-8dac-017ec7cbd79f",
   "metadata": {
    "tags": []
   },
   "outputs": [],
   "source": [
    "picture1='pig'\n",
    "picture2='guinea'\n",
    "\n",
    "#HOW DO I VERIFY IF PICTURE 1 OR 2 IS A PIG?\n",
    "\n",
    "if not picture1 == \"guinea\":\n",
    "    print(picture1)"
   ]
  },
  {
   "cell_type": "code",
   "execution_count": null,
   "id": "219556cd-59e7-48bd-8265-4509ad9df00e",
   "metadata": {},
   "outputs": [],
   "source": [
    "user_role = \"guest\"\n",
    "if not user_role ==\"admin\":\n",
    "    print(\"Access restricted. Administrators only.\")\n",
    "    "
   ]
  },
  {
   "cell_type": "markdown",
   "id": "b597fd8a-0fa3-406a-aa11-cb6673996ce6",
   "metadata": {
    "user_expressions": []
   },
   "source": [
    "## Elif Statement\n",
    "\n",
    "`elif` is short for *else if*. You can evaluate more than one condition with the `elif` statement. Python will first evaluate whether the `if` statement is True, then whether the next `elif` statement is True, then whether the following `elif statement` etc... "
   ]
  },
  {
   "cell_type": "code",
   "execution_count": null,
   "id": "3f19e413-dc5e-4157-b0b1-ecf56908dfb5",
   "metadata": {
    "tags": []
   },
   "outputs": [],
   "source": [
    "beyonce = \"Grammy award-nominee\"\n",
    "\n",
    "if beyonce == \"Grammy award-winner\":\n",
    "    print(\"Congratulations, Beyonce!\")\n",
    "elif beyonce == \"Grammy award-nominee\":\n",
    "    print(\"Ok well at least they nominated you, Beyonce.\")\n",
    "else:\n",
    "    print(\"They messed up, Beyonce.\")"
   ]
  },
  {
   "cell_type": "markdown",
   "id": "f9c83d49-f9d7-4f11-8033-c40bb1dbd593",
   "metadata": {
    "user_expressions": []
   },
   "source": [
    "## The `in` keyword\n",
    "You can check to see whether a string is within another string using the `in` keyword."
   ]
  },
  {
   "cell_type": "code",
   "execution_count": null,
   "id": "1795410b-d2ac-4ffd-bc83-08b4b4c90f77",
   "metadata": {
    "tags": []
   },
   "outputs": [],
   "source": [
    "if \"Grammy\" in beyonce:\n",
    "    print('awesome sauce!')\n",
    "else:\n",
    "    print('not cool man')"
   ]
  },
  {
   "cell_type": "code",
   "execution_count": null,
   "id": "76334b2e-275c-44b1-be56-5ea3f46397ae",
   "metadata": {},
   "outputs": [],
   "source": []
  }
 ],
 "metadata": {
  "kernelspec": {
   "display_name": "Python 3 (ipykernel)",
   "language": "python",
   "name": "python3"
  },
  "language_info": {
   "codemirror_mode": {
    "name": "ipython",
    "version": 3
   },
   "file_extension": ".py",
   "mimetype": "text/x-python",
   "name": "python",
   "nbconvert_exporter": "python",
   "pygments_lexer": "ipython3",
   "version": "3.12.7"
  }
 },
 "nbformat": 4,
 "nbformat_minor": 5
}
