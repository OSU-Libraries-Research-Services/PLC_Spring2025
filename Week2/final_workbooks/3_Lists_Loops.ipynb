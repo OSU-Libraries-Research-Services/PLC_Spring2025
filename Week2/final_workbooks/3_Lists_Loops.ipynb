{
 "cells": [
  {
   "cell_type": "markdown",
   "id": "eb386cda-333d-4327-8b80-6264c6b0f04a",
   "metadata": {},
   "source": [
    "# Lists and Loops\n",
    "\n",
    "***Lists*** are a Python data type. Lists are always encased in `[ ]` square brackets with each list item separated by a `,`\n",
    "\n",
    "`characters = ['Han Solo', 'Luke Skywalker', 'C3PO', 'R2D2']`\n",
    "\n",
    "Lists can contain any Python data type:\n",
    "\n",
    "`random_list = ['Halloween', 'monster', 2024, ['Snickers', 'M&Ms','Mars Bars'],{'dog': 'Jordan','age':8,'color':'black'}]`\n"
   ]
  },
  {
   "cell_type": "code",
   "execution_count": null,
   "id": "3dddd064-5823-4888-b908-bdc390355edd",
   "metadata": {
    "tags": []
   },
   "outputs": [],
   "source": [
    "characters = ['Han Solo', 'Luke Skywalker', 'C3PO', 'R2D2']\n",
    "type(characters)\n"
   ]
  },
  {
   "cell_type": "code",
   "execution_count": null,
   "id": "b4bd8993-87a9-40f8-9a4c-d1a566d6a161",
   "metadata": {
    "tags": []
   },
   "outputs": [],
   "source": [
    "random_list = ['Halloween', 'monster', 2024, ['Snickers', 'M&Ms','Mars Bars'],{'dog': 'Jordan','age':8,'color':'black'}]\n",
    "type(random_list)\n"
   ]
  },
  {
   "cell_type": "markdown",
   "id": "cdbd06e9-e8cd-4a72-a6bb-1b65c80bec98",
   "metadata": {},
   "source": [
    "## Slicing or Extracting List Items\n",
    "\n",
    "Just like strings, to extract items from a list use the syntax:\n",
    "\n",
    "`list_name[start_index:stop_index:step]`"
   ]
  },
  {
   "cell_type": "code",
   "execution_count": null,
   "id": "40330af8-d90d-4dcc-9480-cf5dc247ffac",
   "metadata": {
    "tags": []
   },
   "outputs": [],
   "source": [
    "characters = ['Han Solo', 'Luke Skywalker', 'C3PO', 'R2D2']\n",
    "\n",
    "#EXTRACT THE FIRST ITEM FROM CHARACTERS \n",
    "first_character=characters[0]\n",
    "print(first_character)\n",
    "\n",
    "#EXTRACT THE LAST THREE ITEMS FROM CHARACTERS\n",
    "last3_characters=characters[1:]\n",
    "print(last3_characters)\n",
    "\n",
    "han_solo='Han Solo'\n",
    "han_only=han_solo[0:3]\n",
    "print(han_only)"
   ]
  },
  {
   "cell_type": "code",
   "execution_count": null,
   "id": "96165e1e-bb21-4e7a-a8bb-29aba79805bf",
   "metadata": {
    "tags": []
   },
   "outputs": [],
   "source": [
    "#WHAT IS ANOTHER WAY WE CAN EXTRACT THE LAST THREE ITEMS FROM CHARACTERS?\n",
    "last3_again=characters[-3:]\n",
    "print(last3_again)"
   ]
  },
  {
   "cell_type": "code",
   "execution_count": null,
   "id": "b929d67e-fbc6-437f-91cf-431b08e16c1e",
   "metadata": {
    "tags": []
   },
   "outputs": [],
   "source": [
    "numbers = [1,2,3,4,5,6,7,8,9,10,11,12,13,14,15,16,17,18,19,20]\n",
    "\n",
    "#HOW CAN I EXTRACT EVERY SECOND ITEM FROM NUMBERS?\n",
    "\n",
    "even_numbers=#insert statement here\n",
    "\n",
    "print(even_numbers)"
   ]
  },
  {
   "cell_type": "markdown",
   "id": "db8b4d94-c354-47a9-937a-e08d24fae3a5",
   "metadata": {},
   "source": [
    "## List Methods\n",
    "\n",
    "| **List Method** | **Explanation**                                                                                   |\n",
    "|-------------|---------------------------------------------------------------------------------------------------|\n",
    "| `list.append(another_item)`          | adds new item to end of list                                                                                |\n",
    "| `list.extend(another_list)`        | adds items from another_list to list                                                |\n",
    "| `list.remove(item)`        | removes first instance of item                                                       |\n",
    "| `list.sort(reverse=False)`       | sort the order of list                                                                                 |                                                     |\n",
    "| `list.reverse()`       | reverses order of list                                                                                 |                                                     |\n"
   ]
  },
  {
   "cell_type": "code",
   "execution_count": null,
   "id": "51fede10-5213-4b0a-b6e2-c79eb7f7ca87",
   "metadata": {
    "tags": []
   },
   "outputs": [],
   "source": [
    "dogs = ['Jordan','Lilah','Benny','Belle']\n",
    "\n",
    "#HOW CAN I ADD A DOG TO THIS LIST?\n",
    "\n",
    "dogs.append('Ruby')\n",
    "print(dogs)"
   ]
  },
  {
   "cell_type": "code",
   "execution_count": null,
   "id": "150967a1-3be8-4ddc-9b88-18b0cb0dc7c4",
   "metadata": {
    "tags": []
   },
   "outputs": [],
   "source": [
    "#HOW CAN I REMOVE A DOG FROM THE LIST DOGS?\n",
    "\n",
    "dogs.remove('Belle')\n",
    "print(dogs)"
   ]
  },
  {
   "cell_type": "code",
   "execution_count": null,
   "id": "46491f54-a859-4527-b63a-6ea570c2efca",
   "metadata": {
    "tags": []
   },
   "outputs": [],
   "source": [
    "#HOW CAN I ADD A LIST OF NEW DOGS TO THE ORIGINAL LIST DOGS?\n",
    "\n",
    "new_dogs=['Toby1', 'Toby2','Yuki']\n",
    "dogs.extend(new_dogs)\n",
    "print(dogs)\n"
   ]
  },
  {
   "cell_type": "code",
   "execution_count": null,
   "id": "912ea919-c378-4dc1-8409-9b6a8622fa4a",
   "metadata": {
    "tags": []
   },
   "outputs": [],
   "source": [
    "# HOW CAN I SORT MY LIST OF DOGS ALPHABETICALLY\n",
    "dogs.sort()\n",
    "print(dogs)"
   ]
  },
  {
   "cell_type": "code",
   "execution_count": null,
   "id": "0bcb57af-786b-4c31-b383-7b9484645ade",
   "metadata": {},
   "outputs": [],
   "source": [
    "# HOW CAN I SORT MY LIST OF DOGS IN REVERSE ALPHABETICAL ORDER?\n",
    "dogs.reverse()\n",
    "print(dogs)"
   ]
  },
  {
   "cell_type": "markdown",
   "id": "bc76eb43-ddf9-4497-b1cf-c4a84ae2cadb",
   "metadata": {},
   "source": [
    "## The `For` Loop\n",
    "\n",
    "Python programs often assign a plural variable when naming a list. A `for` loop with a singular variable is then assigned to tell Python to do something with each item in a list sequence. What does this mean?\n",
    "\n",
    "`dogs = ['Jordan', 'Lilah', 'Benny', 'Ruby', 'Toby1', 'Toby2', 'Yuki']`\n",
    "\n",
    "`for dog in dogs:`\\\n",
    "`    print(dog)`\n",
    "\n",
    "This statement tells Python to look at each dog in the dogs list and print the name of the dog.\n"
   ]
  },
  {
   "cell_type": "code",
   "execution_count": null,
   "id": "344ac0a7-af43-424d-8766-995ee53b6792",
   "metadata": {
    "tags": []
   },
   "outputs": [],
   "source": [
    "for dog in dogs:\n",
    "    print(dog)"
   ]
  },
  {
   "cell_type": "code",
   "execution_count": null,
   "id": "56a7a813-b2bb-41c3-bfa8-e859d89a5d4c",
   "metadata": {
    "tags": []
   },
   "outputs": [],
   "source": [
    "#I CAN TELL PYTHON TO ONLY RETURN THE NAMES OF THE LAST 3 DOGS\n",
    "for dog in dogs[-3:]:\n",
    "    print(dog)"
   ]
  },
  {
   "cell_type": "code",
   "execution_count": null,
   "id": "8f1d963b-f0cd-4e87-a73c-db647dae9453",
   "metadata": {
    "tags": []
   },
   "outputs": [],
   "source": [
    "#I CAN USE CONDITIONAL STATEMENTS TO ASSIGN OWNERS TO EACH DOG\n",
    "for dog in dogs:\n",
    "    if dog=='Jordan':\n",
    "        print('Jordan\\'s mom is Sarah')\n",
    "    elif dog == 'Liliah' or dog == 'Benny':\n",
    "        print('Lilah and Benny\\'s mom is Becky')\n",
    "    elif dog == 'Toby1' or dog=='Toby2':\n",
    "        print('Toby1 and Toby2\\'s mom is Miriam')\n",
    "    elif dog == 'Ruby':\n",
    "        print('Ruby\\'s mom is Carol')\n",
    "    elif dog == 'Yuki':\n",
    "        print('Yuki\\'s dad is Vivek')"
   ]
  },
  {
   "cell_type": "markdown",
   "id": "72ad4351-de94-411a-9f9d-099a23e287cb",
   "metadata": {
    "user_expressions": []
   },
   "source": [
    "## Practice\n",
    "Let's practice using a list of [presidents](https://president.osu.edu/about-office/past-presidents) of The Ohio State University!\n",
    "\n",
    "- Edward Francis Baxter Orton Sr, 1873-1881\n",
    "- Walter Quincy Scott, 1881-1883\n",
    "- William Henry Scott, 1883-1895\n",
    "- James Hulme Canfield, 1895-1899\n",
    "- William Oxley Thompson, 1899-1925\n",
    "- George Washington Rightmire, 1925-1938\n",
    "- William McPherson, 1938-1940\n",
    "- Howard Landis Bevis, 1940-1956\n",
    "- Novice Gail Fawcett, 1956-1972\n",
    "- Harold Leroy Enarson, 1972-1981\n",
    "- Edward Harrington Jennings, 1981-1990\n",
    "- E. Gordon Gee, 1990-1998\n",
    "- John Richard Sisson, 1997-1998\n",
    "- William English Kirwan, 1998-2002\n",
    "- Edward Harrington Jennings, 2002\n",
    "- Karen Ann Holbrook, 2002-2007\n",
    "- Joseph A. Alutto, 2007\n",
    "- E. Gordon Gee, 2007-2013\n",
    "- Joseph A. Alutto, 2013-2014\n",
    "- Michael V. Drake, 2014-2020\n",
    "- Kristina M. Johnson, 2020-2023\n",
    "- Peter J. Mohler, 2023\n",
    "- Walter \"Ted\" Carter, Jr., 2024-\n"
   ]
  },
  {
   "cell_type": "code",
   "execution_count": null,
   "id": "11a37158-b941-4e62-a2e3-049812f84b47",
   "metadata": {
    "tags": []
   },
   "outputs": [],
   "source": [
    "presidents=[\"Edward Francis Baxter Orton Sr\",\"Walter Quincy Scott\",\"William Henry Scott\",\"James Hulme Canfield\",\"William Oxley Thompson\",\n",
    "            \"George Washington Rightmire\",\"William McPherson\",\"Howard Landis Bevis\",\"Novice Gail Fawcett\",\"Harold Leroy Enarson\",\n",
    "            \"Edward Harrington Jennings\",\"E. Gordon Gee\",\"John Richard Sisson\",\"William English Kirwan\",\"Edward Harrington Jennings\",\n",
    "            \"Karen Ann Holbrook\",\"Joseph A. Alutto\",\"E. Gordon Gee\",\"Joseph A. Alutto\",\"Michael V. Drake\",\"Kristina M. Johnson\",\n",
    "            \"Peter J. Mohler\",'Walter \"Ted\" Carter, Jr.']\n",
    "\n",
    "print(presidents)"
   ]
  },
  {
   "cell_type": "code",
   "execution_count": null,
   "id": "fd539610-c373-4f40-966a-6a977d140a76",
   "metadata": {},
   "outputs": [],
   "source": [
    "#1. PRINT THE NAME OF EACH PRESIDENT IN THE PRESIDENTS LIST\n",
    "\n"
   ]
  },
  {
   "cell_type": "markdown",
   "id": "83bbcddb-a5eb-4ae6-a8ac-9655383abad7",
   "metadata": {
    "user_expressions": []
   },
   "source": [
    "## Index | Enumerate\n",
    "We can find the index position of an item in a list using a number of different strategies.\n",
    "\n",
    "We can use a `for` loop with the built-in `index()` method.\n",
    "\n",
    "- First we ask Python to look at each president in the presidents list\n",
    "- Then we ask Python to give us each president's index position\n",
    "- Last we ask Python to print the president's index position and name. \n"
   ]
  },
  {
   "cell_type": "code",
   "execution_count": null,
   "id": "ca6edcc4-a5bb-4313-b456-ac137678f683",
   "metadata": {
    "tags": []
   },
   "outputs": [],
   "source": [
    "for president in presidents:\n",
    "    president_index_position=presidents.index(president)\n",
    "    president_index_position=president_index_position+1\n",
    "    print(str(president_index_position)+' '+president)"
   ]
  },
  {
   "cell_type": "markdown",
   "id": "f9e03c33-939b-4ea9-aae1-2fe1b89502bd",
   "metadata": {
    "user_expressions": []
   },
   "source": [
    "We can accomplish the same task using the built-in `enumerate` function:\n",
    "\n",
    "For this example, we will ask Python to return two variables from the presidents list, the `index` position and the `president`.\n",
    "\n"
   ]
  },
  {
   "cell_type": "code",
   "execution_count": null,
   "id": "313b90a7-c6ee-4423-a6ef-302bb1b1f193",
   "metadata": {
    "tags": []
   },
   "outputs": [],
   "source": [
    "for index, president in enumerate(presidents):\n",
    "    print(index, president)\n",
    "    "
   ]
  },
  {
   "cell_type": "markdown",
   "id": "2bb63e17-e554-4679-95dd-d0a5b79fd8fe",
   "metadata": {
    "user_expressions": []
   },
   "source": [
    "We can print a more clear statement using a *f-string*, which allow us to insert variables into a print statement. "
   ]
  },
  {
   "cell_type": "code",
   "execution_count": null,
   "id": "67948323-7073-4f71-8ed3-4841c9a1f933",
   "metadata": {
    "tags": []
   },
   "outputs": [],
   "source": [
    "for index, president in enumerate(presidents):\n",
    "    print(f\"{president} was the {index} president of The Ohio State University\")"
   ]
  },
  {
   "cell_type": "markdown",
   "id": "1170dfd3-77da-408a-bb01-606046b4a3fa",
   "metadata": {},
   "source": [
    "Remember, Python is a zero-indexed programming language. I can further clean up this script by adding 1 to each index position and using a conditional statement to add a superscript to each number."
   ]
  },
  {
   "cell_type": "code",
   "execution_count": null,
   "id": "b1d67b28-029e-4170-9edb-fc2b518f5e69",
   "metadata": {
    "tags": []
   },
   "outputs": [],
   "source": [
    "for index, president in enumerate(presidents):\n",
    "    index=index+1\n",
    "    if index==1 or index==21:\n",
    "        superscript='st'\n",
    "    elif index==2 or index==22:\n",
    "        superscript='nd'\n",
    "    elif index==3 or index==23:\n",
    "        superscript='rd'\n",
    "    elif index>=4 and index<=20:\n",
    "        superscript='th'\n",
    "    print(f\"{president} was the {index}{superscript} president of The Ohio State University\")"
   ]
  },
  {
   "cell_type": "markdown",
   "id": "cbdd2ad1-5bcd-4478-8338-d6b648e6d8f0",
   "metadata": {},
   "source": [
    "## Practice"
   ]
  },
  {
   "cell_type": "code",
   "execution_count": null,
   "id": "f897934b-936a-4632-bc6d-e4ca7ab7acbd",
   "metadata": {
    "tags": []
   },
   "outputs": [],
   "source": [
    "#LET'S CREATE A SECOND LIST OF PRESIDENT TENURE DATES\n",
    "tenure_dates=['1873-1881','1881-1883','1883-1895','1895-1899','1899-1925','1925-1938','1938-1940','1940-1956',\n",
    "                  '1956-1972','1972-1981','1981-1990','1990-1998','1997-1998','1998-2002','2002','2002-2007','2007','2007-2013','2013-2014',\n",
    "                  '2014-2020','2020-2023','2023','2024-']\n",
    "\n",
    "print(tenure_dates)\n"
   ]
  },
  {
   "cell_type": "code",
   "execution_count": null,
   "id": "d0996e68-d34b-4255-a21a-d86c80993368",
   "metadata": {
    "tags": []
   },
   "outputs": [],
   "source": [
    "#NOW LET'S CREATE A NEW LIST THAT COMBINES EACH PRESIDENT AND THEIR TENURE\n",
    "\n",
    "presidents_tenure=[] ## THIS CREATES AN EMPTY LIST WE CAN ADD ITEMS TO\n",
    "for index, president in enumerate(presidents):\n",
    "    tenure=tenure_dates[index]\n",
    "    president_tenure_dates=president+', '+tenure\n",
    "    presidents_tenure.append(president_tenure_dates) ## WE USE THE APPEND METHOD TO ADD ITEMS TO OUR NEW LIST\n",
    "\n",
    "print(presidents_tenure)"
   ]
  },
  {
   "cell_type": "code",
   "execution_count": null,
   "id": "7820f042-d190-4d8a-a2e4-298bccdd5e42",
   "metadata": {
    "tags": []
   },
   "outputs": [],
   "source": [
    "#2. TRY CREATING THE SAME PRESIDENTS_TENURE LIST USING THE INDEX METHOD\n",
    "##You will need an empty list\n",
    "##You will need a for loop\n",
    "presidents_tenure=[]\n",
    "\n",
    "\n",
    "    \n",
    "    \n"
   ]
  },
  {
   "cell_type": "code",
   "execution_count": null,
   "id": "4abc8b49-745c-426a-a774-258c36d69c7e",
   "metadata": {
    "jupyter": {
     "source_hidden": true
    }
   },
   "outputs": [],
   "source": [
    "#Answer\n",
    "presidents_tenure=[]\n",
    "for president in presidents:\n",
    "    position=presidents.index(president)\n",
    "    tenure=tenure_dates[position]\n",
    "    president_tenure_dates=president+', '+tenure\n",
    "    presidents_tenure.append(president_tenure_dates)\n",
    "    print(president+', '+tenure)\n",
    "print(presidents_tenure)"
   ]
  },
  {
   "cell_type": "markdown",
   "id": "9fbbe06a-37bb-4f47-b584-6943b90130bf",
   "metadata": {},
   "source": [
    "Since the index positions for the presidents and the tenure_dates lists are aligned, we can also use the `zip()` function with a for loop to combine these lists."
   ]
  },
  {
   "cell_type": "code",
   "execution_count": null,
   "id": "8a6b5076-b3ad-4dce-992a-ab1c06067028",
   "metadata": {
    "tags": []
   },
   "outputs": [],
   "source": [
    "for president, tenure in zip(presidents, tenure_dates):\n",
    "    print(f\"{president}, {tenure}\")"
   ]
  },
  {
   "cell_type": "markdown",
   "id": "73f149a5-4501-4791-bb4f-9b8fada6cb03",
   "metadata": {},
   "source": [
    "## Building Lists\n",
    "We can create new lists from existing lists using the `for` loop and the `append()` method.\n",
    "\n",
    "Let's find all states bordering the pacific ocean in the United States.\n",
    "\n",
    "\n"
   ]
  },
  {
   "cell_type": "code",
   "execution_count": null,
   "id": "699ecd2a-a3da-4b03-95dd-7f61b7ff43bd",
   "metadata": {
    "tags": []
   },
   "outputs": [],
   "source": [
    "#FIRST WE START BY ASSIGNING AN EMPTY LIST TO A VARIABLE\n",
    "pacific_states=[ ]\n",
    "\n",
    "# NEXT WE NEED A LIST OF ALL THE STATES\n",
    "united_states=[\"Alabama\",\"Alaska\",\"Arizona\",\"Arkansas\",\"California\",\"Colorado\",\"Connecticut\",\"Delaware\",\"Florida\",\n",
    "               \"Georgia\",\"Hawaii\",\"Idaho\",\"Illinois\",\"Indiana\",\"Iowa\",\"Kansas\",\"Kentucky\",\"Louisiana\",\"Maine\",\n",
    "               \"Maryland\",\"Massachusetts\",\"Michigan\",\"Minnesota\",\"Mississippi\",\"Missouri\",\"Montana\",\"Nebraska\",\n",
    "               \"Nevada\",\"New Hampshire\",\"New Jersey\",\"New Mexico\",\"New York\",\"North Carolina\",\"North Dakota\",\n",
    "               \"Ohio\",\"Oklahoma\",\"Oregon\",\"Pennsylvania\",\"Rhode Island\",\"South Carolina\",\"South Dakota\",\"Tennessee\",\n",
    "               \"Texas\",\"Utah\",\"Vermont\",\"Virginia\",\"Washington\",\"West Virginia\",\"Wisconsin\",\"Wyoming\"]\n",
    "\n",
    "#THEN WE USE A FOR LOOP WITH A CONDITIONAL STATEMENT TO FIND THE WESTERN STATES\n",
    "for state in united_states:\n",
    "    if state==\"Alaska\" or state==\"California\" or state==\"Hawaii\" or state==\"Oregon\" or state==\"Washington\":\n",
    "        pacific_states.append(state)\n",
    "        \n",
    "print(pacific_states)"
   ]
  },
  {
   "cell_type": "markdown",
   "id": "f5697e41-d1d3-4ad7-b3eb-88e32e8a1091",
   "metadata": {},
   "source": [
    "## Practice\n",
    "Use the united_states list in the cell above and create a list containing all states bordering the [great lakes](https://www.worldatlas.com/articles/the-eight-us-states-located-in-the-great-lakes-region.html#:~:text=Map%20of%20the%20Great%20Lakes,Michigan%2C%20Minnesota%2C%20and%20Wisconsin.)."
   ]
  },
  {
   "cell_type": "code",
   "execution_count": null,
   "id": "b03020c4-5eec-4601-bd2b-39726e282499",
   "metadata": {},
   "outputs": [],
   "source": [
    "#CREATE A LIST CONTAINING ALL STATES BORDERING THE GREAT LAKES"
   ]
  },
  {
   "cell_type": "markdown",
   "id": "89fcd49a-390f-44c0-838d-9b064d48095d",
   "metadata": {},
   "source": [
    "## Number of Items in a List\n",
    "It can be helpful to know the number of items in a list when you are harvesting data from a website or pulling data from a database. We can find the number of items in a list using the `len()` function."
   ]
  },
  {
   "cell_type": "code",
   "execution_count": null,
   "id": "1fb37cb9-1b24-4299-90bd-c4e26f4b5210",
   "metadata": {
    "tags": []
   },
   "outputs": [],
   "source": [
    "len(united_states)"
   ]
  },
  {
   "cell_type": "markdown",
   "id": "29743564-a4b1-4c99-97ba-d93a820c6242",
   "metadata": {},
   "source": [
    "## Counter Variables\n",
    "We can use the built-in `enumerate()` function or the `index()` method to track the index position of an item in a list. It can also be helpful sometimes to track position in a list using a counter variable."
   ]
  },
  {
   "cell_type": "code",
   "execution_count": null,
   "id": "6fb91ade-43df-449d-aa3c-e763a216aed6",
   "metadata": {
    "tags": []
   },
   "outputs": [],
   "source": [
    "count=0\n",
    "for state in united_states:\n",
    "    count +=1\n",
    "    print('Starting record '+str(count)+' '+state)"
   ]
  },
  {
   "cell_type": "markdown",
   "id": "a726a7e9-b473-4cdf-a32d-b3cab1dd557e",
   "metadata": {},
   "source": [
    "## List Comprehensions\n",
    "List comprehensions offer another way to write a for loop. Instead of writing"
   ]
  },
  {
   "cell_type": "code",
   "execution_count": null,
   "id": "d6db2b8c-f28f-4dbc-9072-4a6e5255e625",
   "metadata": {},
   "outputs": [],
   "source": [
    "pacific_states=[]\n",
    "for state in united_states:\n",
    "    if state==\"Alaska\" or state==\"California\" or state==\"Hawaii\" or state==\"Oregon\" or state==\"Washington\":\n",
    "        pacific_states.append(state)"
   ]
  },
  {
   "cell_type": "markdown",
   "id": "e6174022-ca33-47a0-8a17-3698a9d15a86",
   "metadata": {
    "tags": []
   },
   "source": [
    "to find pacific_states, we would write just one line:"
   ]
  },
  {
   "cell_type": "code",
   "execution_count": null,
   "id": "53064ff6-cc9a-4ec1-9604-399e07acdcb8",
   "metadata": {
    "tags": []
   },
   "outputs": [],
   "source": [
    "pacific_states = [state for state in united_states if state==\"Alaska\" or state==\"California\" or state==\"Hawaii\" or state==\"Oregon\" or state==\"Washington\"]"
   ]
  },
  {
   "cell_type": "code",
   "execution_count": null,
   "id": "36c91111-9595-4d07-acf4-e8594a8fbdaf",
   "metadata": {
    "tags": []
   },
   "outputs": [],
   "source": [
    "pacific_states"
   ]
  },
  {
   "cell_type": "markdown",
   "id": "07418825-2515-4110-ad77-d4d1d5a6e93a",
   "metadata": {},
   "source": [
    "The statement starts with the item to extract followed by a slightly reformatted for loop."
   ]
  }
 ],
 "metadata": {
  "kernelspec": {
   "display_name": "Python 3 (ipykernel)",
   "language": "python",
   "name": "python3"
  },
  "language_info": {
   "codemirror_mode": {
    "name": "ipython",
    "version": 3
   },
   "file_extension": ".py",
   "mimetype": "text/x-python",
   "name": "python",
   "nbconvert_exporter": "python",
   "pygments_lexer": "ipython3",
   "version": "3.12.7"
  }
 },
 "nbformat": 4,
 "nbformat_minor": 5
}
