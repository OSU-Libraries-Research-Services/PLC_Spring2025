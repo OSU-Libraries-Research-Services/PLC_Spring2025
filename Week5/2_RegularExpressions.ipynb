{
 "cells": [
  {
   "cell_type": "markdown",
   "id": "aa9c0f6a-2d6f-4449-ba2a-a95e32c757ce",
   "metadata": {},
   "source": [
    "# Regular Expressions\n",
    "\n",
    "Regular expressions match patterns in text.  Known as wildcards on steroids, they offer powerful features for processing text, including:\n",
    "- **Validate:** Ensuring text input matches matches a specific pattern, lie a 5 digit zip code (^\\d{5}$).\n",
    "- **Extract:** Pulling out specific text from a document, such as all spelling variations of the word \"color\"(colou?r) or \"hematology\" (ha?ematology).\n",
    "- **Replace:** Finding and replacing text, such as changing all instances of 'OH' to 'Ohio' (\\bOH\\b).\n",
    "\n",
    "Regular expressions are included in several programming langauges and software programs including Python, JavaScript, and Tableau. \n",
    "\n",
    "- [A-Z] matches any one uppercase letter.\n",
    "- [a-z] matches any one lowercase letter.\n",
    "- [0-9] matches any one digit.\n",
    "- [0-9]{5} matches a pattern of 5 digits.\n",
    "\n",
    "\n",
    "[Metacharacters](https://www.w3schools.com/python/gloss_python_regex_metacharacters.asp) have special meaning in Regular Expressions and must be escaped with a `\\`. Metacharacters include:\n",
    "- `[ ]` A set of characters, e.g., `[a-f]`.\n",
    "- `\\` Start of a special sequence, e.g., `\\w`.\n",
    "- `.` Any character except newline, e.g., `d.g`.\n",
    "- `^` Starts with, e.g., `^Ohio`.\n",
    "- `$` End with, e.g., `State$`.\n",
    "- `*` Zero or more characters, e.g., `h*matology`.\n",
    "- `+` One or more characters, e.g., `spe+s`.\n",
    "- `?` Zero or more characters, e.g., `p?ediatric`.\n",
    "- `{ }` Exactly x number of characters, e.g., `[0-9]{5}`.\n",
    "- `|` or, e.g. `Ohio State|OSU`.\n",
    "- `( )` Extract or group.\n",
    "\n",
    "## Learning Resources\n",
    "\n",
    "### [regex101:build,test,debug](https://regex101.com/)\n",
    "Helps you write regular expressions for multiple programming languages. Allows you to test your regular expression against a sample string of your data, and explains your regex as you type. Also includes a searchable quick reference of regex syntax.\n",
    "\n",
    "### [Learning Regular Expressions](https://library.ohio-state.edu/record=b9497158~S7)\n",
    "This ebook by Ben Forta is available through the Libraries [Safari Books](https://library.ohio-state.edu/record=e1002334T~S7) package of technical books and videos. Each chapter is organized as a lesson teacing you how to match a single character or set of characters, utlize metacharacters and more.\n",
    "\n",
    "# [re module](https://docs.python.org/3/library/re.html)\n",
    "To use regular expressions in Python, import the regular expressions module.\n",
    "\n",
    "`import re`\n",
    "\n"
   ]
  },
  {
   "cell_type": "markdown",
   "id": "971982d1-4cad-4b0c-b1e9-928e51eb3444",
   "metadata": {},
   "source": [
    "## [re.match( )](https://docs.python.org/3/library/re.html#re.match)\n",
    "`re.match(pattern, string, flags=0)`\n",
    "\n",
    "True if zero or more characters at the **beginning** of the string match the regular expression pattern."
   ]
  },
  {
   "cell_type": "code",
   "execution_count": null,
   "id": "c0972f61-f110-49e6-9239-beee7a0e6e92",
   "metadata": {},
   "outputs": [],
   "source": [
    "import pandas as pd\n",
    "import re\n",
    "\n",
    "addresses=pd.read_csv('pubmed_author_affiliations.csv')\n",
    "addresses=addresses.dropna(subset='affiliation')\n",
    "\n",
    "for idx, row in addresses.iloc[0:200].iterrows():\n",
    "    affiliation=str(row.affiliation)\n",
    "    # print(affiliation)\n",
    "    osu_match=re.match(r\"The Ohio State University\",affiliation) \n",
    "    if osu_match:\n",
    "        print(f\" MATCH {osu_match.group()}: {affiliation}\")\n",
    "    else:\n",
    "        print(\"no match\")\n"
   ]
  },
  {
   "cell_type": "markdown",
   "id": "a7fefa4a-7af2-4557-9441-eb5d8bd5d3f4",
   "metadata": {},
   "source": [
    "## [re.search( )](https://docs.python.org/3/library/re.html#re.search)\n",
    "`re.search(pattern, string, flags=0)`\n",
    "\n",
    "Searches through string and finds the first location where the string matches the regular expression pattern"
   ]
  },
  {
   "cell_type": "code",
   "execution_count": null,
   "id": "e6dd8e3b-4a95-4c71-babd-756ac1ecb8f1",
   "metadata": {},
   "outputs": [],
   "source": [
    "import pandas as pd\n",
    "import re\n",
    "\n",
    "addresses=pd.read_csv('pubmed_author_affiliations.csv')\n",
    "addresses=addresses.dropna(subset='affiliation')\n",
    "\n",
    "for idx, row in addresses.iloc[0:200].iterrows():\n",
    "    affiliation=str(row.affiliation)\n",
    "    # print(affiliation)\n",
    "    osu_search=re.search(r\"The Ohio State University\",affiliation) \n",
    "    if osu_search:\n",
    "        print(osu_search.group())\n",
    "    else:\n",
    "        print(f\"No match: affiliation = {affiliation}\")\n",
    "    \n"
   ]
  },
  {
   "cell_type": "markdown",
   "id": "a3575361-5eb1-4dbc-85a9-feb9a2deaeaf",
   "metadata": {},
   "source": [
    "## [re.findall( )](https://docs.python.org/3/library/re.html#re.findall)\n",
    "`re.findall(pattern, string, flags=0)`\n",
    "\n",
    "Scans string from left to right and returns all matches in the string as a list of strings or tuples.\n"
   ]
  },
  {
   "cell_type": "code",
   "execution_count": null,
   "id": "75fea3ee-fba4-405f-9203-737244cbb2ce",
   "metadata": {},
   "outputs": [],
   "source": [
    "# FIND TORTOISES AT THE NATIONAL ZOO\n",
    "\n",
    "import pandas as pd\n",
    "import re\n",
    "\n",
    "df=pd.read_csv('i_met_the_animals.csv')\n",
    "animals=df.common_name.tolist()\n",
    "animals=','.join(animals)\n",
    "pattern=\"A[a-z]* ?[a-z]* tortoise,\"\n",
    "tortoises=re.findall(pattern, animals)\n",
    "for each_tortoise in tortoises:\n",
    "    print(each_tortoise.replace(',',''))"
   ]
  },
  {
   "cell_type": "markdown",
   "id": "9f5537bb-ec93-4ce4-b6ea-2ccdc2a85a8e",
   "metadata": {},
   "source": [
    "## [re.sub( )](https://docs.python.org/3/library/re.html#re.sub)\n",
    "`re.sub(pattern, repl, string, count=0, flags=0)`\n",
    "\n",
    "Finds the string pattern and replaces it with the text provided."
   ]
  },
  {
   "cell_type": "code",
   "execution_count": null,
   "id": "8bd00621-3236-41f7-b85b-9ee650d16592",
   "metadata": {},
   "outputs": [],
   "source": [
    "# FIND TORTOISES AT THE NATIONAL ZOO AND REPLACE THE COMMON_NAME WITH \"SLOW TORTOISE\"\n",
    "import pandas as pd\n",
    "import re\n",
    "\n",
    "df=pd.read_csv('i_met_the_animals.csv')\n",
    "animals=df.common_name.tolist()\n",
    "animals=','.join(animals)\n",
    "pattern=\"A[a-z]* ?[a-z]* tortoise,\"\n",
    "tortoises_slow=re.sub(pattern,\"SLOW TORTOISE,\",animals)\n",
    "tortoises_slow"
   ]
  },
  {
   "cell_type": "markdown",
   "id": "2cad5101-89b9-4692-8db4-0b908e54b2b9",
   "metadata": {},
   "source": [
    "# Activity: The Lantern-Part 3\n",
    "\n",
    "Using the latern_text.csv file created last week, remove the paragraph tags in the publication_text column."
   ]
  },
  {
   "cell_type": "code",
   "execution_count": null,
   "id": "1e346746-b16f-49fd-982c-d45fc4c749a9",
   "metadata": {},
   "outputs": [],
   "source": []
  }
 ],
 "metadata": {
  "kernelspec": {
   "display_name": "Python 3 (ipykernel)",
   "language": "python",
   "name": "python3"
  },
  "language_info": {
   "codemirror_mode": {
    "name": "ipython",
    "version": 3
   },
   "file_extension": ".py",
   "mimetype": "text/x-python",
   "name": "python",
   "nbconvert_exporter": "python",
   "pygments_lexer": "ipython3",
   "version": "3.12.7"
  }
 },
 "nbformat": 4,
 "nbformat_minor": 5
}
