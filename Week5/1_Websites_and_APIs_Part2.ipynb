{
 "cells": [
  {
   "cell_type": "markdown",
   "id": "5e23cb2b-6ea1-49e0-b80f-7daa02bf8dd6",
   "metadata": {},
   "source": [
    "# Websites and APIs - Part 2\n",
    "\n",
    "## [Spyder](https://docs.spyder-ide.org/current/index.html) \n",
    "[Spyder](https://docs.spyder-ide.org/current/index.html) is an interactive development environment (IDE) that offers quick feedback as you iteratively create your code. Designed by and for scientists, engineers, and data analysts, Spyder allows you to interactively write code, explore your data, and more.\n",
    "\n",
    "# Activity: Meet the Animals - Part 2\n",
    "\n",
    "[Meet the Animals](https://nationalzoo.si.edu/animals/list) at the Smithsonian National Zoo & Conservation Biology Institute.\n",
    "\n",
    "Use pandas to read the `i_met_the_animals.csv` file into a dataframe and create a list of animal common_names. Then iterate through the list of common_names to gather the following elements from the webpages for each animal.\n",
    "\n",
    "- Common name\n",
    "- Scientific name\n",
    "- Taxonomic information\n",
    "     - Class\n",
    "     - Order\n",
    "     - Family\n",
    "     - Genus and species\n",
    "- Physical description\n",
    "- Size\n",
    "- Native habitat\n",
    "- Conservation status\n",
    "- Fun facts\n",
    "\n",
    "### Step 1. Copyright | Terms of Use\n",
    "Locate and read the terms of use for the [Smithsonian's National Zoo & Conservation Biology Institute](https://nationalzoo.si.edu/)\n",
    "\n",
    "## Step 2. Is an API available?\n",
    "Technically yes. See [Smithsonian Institution Open Access API documentation\n",
    "](https://edan.si.edu/openaccess/apidocs/#api-_) \n",
    "\n",
    "## Step 3. Inspect the elements\n",
    "Inspect the HTML. Familiarize yourself with the location of the elements listed above, and how the DOM is structured.\n",
    "\n",
    "## Step 4. Identify Python Libraries for Project\n",
    "### [requests](https://requests.readthedocs.io/en/latest/)\n",
    "The [requests](https://requests.readthedocs.io/en/latest/) library retrieves HTML or XML documents from a server and processes the response. \n",
    "\n",
    "### [BeautifulSoup](https://beautiful-soup-4.readthedocs.io/en/latest/)\n",
    "\n",
    "[BeautifulSoup](https://beautiful-soup-4.readthedocs.io/en/latest/) parses HTML and XML documents, helping you search for and extract elements from the DOM. \n",
    "\n",
    "### [pandas](https://pandas.pydata.org/docs/user_guide/index.html)\n",
    "Pandas is a large Python library used for manipulating and analyzing tabular data. \n",
    "\n",
    "#### [.read_csv( )](https://pandas.pydata.org/docs/reference/api/pandas.Series.to_list.html)\n",
    "Reads a .csv file into pandas ...\n",
    "\n",
    "`pd.read_csv('INSERT FILEPATH HERE')`\n"
   ]
  },
  {
   "cell_type": "code",
   "execution_count": null,
   "id": "ffbc417c-6940-46e6-8d7a-c7230bd10636",
   "metadata": {},
   "outputs": [],
   "source": [
    "import pandas as pd\n",
    "df=pd.read_csv('i_met_the_animals.csv') #df is a common abbreviation for DataFrame\n",
    "\n",
    "df"
   ]
  },
  {
   "cell_type": "markdown",
   "id": "72599d77-2e9e-412b-9ee2-f81a98c394f1",
   "metadata": {},
   "source": [
    "#### [.tolist( )](https://pandas.pydata.org/docs/reference/api/pandas.Series.to_list.html)\n",
    "Converts a column in a pandas DataFrame to a list.\n",
    "\n",
    "`df.Series.tolist()`"
   ]
  },
  {
   "cell_type": "code",
   "execution_count": null,
   "id": "403af8af-aea6-4e32-9251-a166e66e4582",
   "metadata": {},
   "outputs": [],
   "source": [
    "animals=df.common_name.tolist()\n",
    "animals"
   ]
  },
  {
   "cell_type": "markdown",
   "id": "12986e71-b939-4a8d-aac0-307781e0a2d8",
   "metadata": {},
   "source": [
    "#### [.dropna( )](https://pandas.pydata.org/docs/reference/api/pandas.DataFrame.dropna.html)\n",
    "\n",
    "Drops `NaN` or Null values. Use carefully. If you do not specify an axis (rows=0, columns=1) or a subset of columns, pandas will drop all of the columns and rows with `NaN` values in your DataFrame. Consider assigning a new variable name to your DataFrame before using this method.\n",
    "\n",
    "`DataFrame.dropna(*, axis=0, how=<no_default>, thresh=<no_default>, subset=None, inplace=False, ignore_index=False)`\n",
    "\n",
    "#####\n",
    "\n",
    "\n"
   ]
  },
  {
   "cell_type": "code",
   "execution_count": null,
   "id": "e532e5ad-3d3c-40b6-a799-d3f2b7058812",
   "metadata": {},
   "outputs": [],
   "source": [
    "animals_without_null_common_names=df.dropna(subset='common_name')\n",
    "animals_without_null_common_names"
   ]
  },
  {
   "cell_type": "markdown",
   "id": "c60c7e15-d3a9-48cc-a752-0adac8f9d086",
   "metadata": {},
   "source": [
    "#### [.fillna( )](https://pandas.pydata.org/docs/reference/api/pandas.Series.fillna.html#pandas.Series.fillna)\n",
    "\n",
    "Replaces `NaN` values with a value you specify.\n",
    "\n",
    "`df.Series.fillna(value=None, *, method=None, axis=None, inplace=False, limit=None, downcast=<no_default>)`"
   ]
  },
  {
   "cell_type": "code",
   "execution_count": null,
   "id": "ba6aacd9-98e0-44a9-a334-9333fb163eee",
   "metadata": {},
   "outputs": [],
   "source": [
    "null_common_names_now_empty_string=df.fillna(\"\")\n",
    "null_common_names_now_empty_string"
   ]
  },
  {
   "cell_type": "markdown",
   "id": "8a61a009-cd1d-44b5-9c1a-67590a118af8",
   "metadata": {},
   "source": [
    "#### [.iterrows( )](https://pandas.pydata.org/docs/reference/api/pandas.DataFrame.iterrows.html#pandas.DataFrame.iterrows)\n",
    "\n",
    "Iterates over DataFrame rows as (index, Series) pairs.\n",
    "\n",
    "`DataFrame.iterrows()`"
   ]
  },
  {
   "cell_type": "code",
   "execution_count": null,
   "id": "9bd8367c-7940-4fd2-933f-ca3dfcab2428",
   "metadata": {},
   "outputs": [],
   "source": [
    "for idx, row in df.iterrows():\n",
    "    print(row.common_name)"
   ]
  },
  {
   "cell_type": "markdown",
   "id": "49f9de28-8685-4015-9754-438d52cd4ecf",
   "metadata": {},
   "source": [
    "#### [.iloc](https://pandas.pydata.org/docs/reference/api/pandas.DataFrame.iterrows.html#pandas.DataFrame.iterrows)\n",
    "\n",
    "Selects row index\n",
    "\n",
    "`DataFrame.iloc[start:end]`"
   ]
  },
  {
   "cell_type": "code",
   "execution_count": null,
   "id": "189ce54f-bd46-4a90-83a8-27318874918b",
   "metadata": {},
   "outputs": [],
   "source": [
    "for idx, row in df.iloc[0:1].iterrows():\n",
    "    print(row.common_name)"
   ]
  },
  {
   "cell_type": "markdown",
   "id": "704b5416-293f-4bb3-ab10-95b549abdccf",
   "metadata": {},
   "source": [
    "#### [.concat( )](https://pandas.pydata.org/docs/reference/api/pandas.concat.html#pandas.concat)\n",
    "\n",
    "Use to join DataFrames along a particular axis (rows=0, columns=1)\n",
    "\n",
    "`pandas.concat(objs, *, axis=0, join='outer', ignore_index=False, keys=None, levels=None, names=None, verify_integrity=False, sort=False, copy=None)`"
   ]
  },
  {
   "cell_type": "code",
   "execution_count": null,
   "id": "0bd18af4-d496-4253-a891-3628c82fe201",
   "metadata": {},
   "outputs": [],
   "source": [
    "results=pd.DataFrame(columns=['common_name','size'])\n",
    "for idx, row in df.iterrows():\n",
    "    common_name=row.common_name\n",
    "    size=10\n",
    "    data_row={\n",
    "        'common_name':common_name,\n",
    "        'size':size     \n",
    "    }\n",
    "    data=pd.DataFrame(data_row, index=[0])\n",
    "    results=pd.concat([data, results], axis=0, ignore_index=True)\n",
    "\n",
    "results"
   ]
  },
  {
   "cell_type": "markdown",
   "id": "5969faf5-1b65-4522-a60b-5cb094195670",
   "metadata": {},
   "source": [
    "# BONUS: try/except\n",
    "\n",
    "Sometimes, despite our best efforts, our code will fail to execute. A tag might be missing from a webpage, or data might be entered inconsistently. If an error occurs in the try block, Python will jump to the except block and then continue to execute your program."
   ]
  },
  {
   "cell_type": "code",
   "execution_count": null,
   "id": "1a59b715-c923-4785-8417-d42bb08fddcf",
   "metadata": {},
   "outputs": [],
   "source": [
    "results=pd.DataFrame(columns=['common_name','size'])\n",
    "for idx, row in df.iterrows():\n",
    "    try:\n",
    "        common_name=row.common_name\n",
    "        size=10\n",
    "        data_row={\n",
    "            'common_name':common_name,\n",
    "            'size':size     \n",
    "        }\n",
    "        data=pd.DataFrame(data_row, index=[0])\n",
    "        results=pd.concat([data, results], axis=0, ignore_index=True)\n",
    "    except:\n",
    "        common_name='no name found'\n",
    "        size=0\n",
    "        data_row={\n",
    "                    'common_name':common_name,\n",
    "                    'size':size     \n",
    "                }\n",
    "                data=pd.DataFrame(data_row, index=[0])\n",
    "                results=pd.concat([data, results], axis=0, ignore_index=True)\n",
    "\n",
    "results"
   ]
  }
 ],
 "metadata": {
  "kernelspec": {
   "display_name": "Python 3 (ipykernel)",
   "language": "python",
   "name": "python3"
  },
  "language_info": {
   "codemirror_mode": {
    "name": "ipython",
    "version": 3
   },
   "file_extension": ".py",
   "mimetype": "text/x-python",
   "name": "python",
   "nbconvert_exporter": "python",
   "pygments_lexer": "ipython3",
   "version": "3.12.7"
  }
 },
 "nbformat": 4,
 "nbformat_minor": 5
}
