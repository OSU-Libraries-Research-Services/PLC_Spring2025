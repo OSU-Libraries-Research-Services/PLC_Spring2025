{
 "cells": [
  {
   "cell_type": "markdown",
   "id": "618fb233-1fa0-4f6b-b887-016521789c71",
   "metadata": {},
   "source": [
    "# Export data to .csv\n",
    "## .. with function"
   ]
  },
  {
   "cell_type": "code",
   "execution_count": 2,
   "id": "bb5b35d3-349f-42be-8769-4f18a8252602",
   "metadata": {},
   "outputs": [],
   "source": [
    "import csv\n",
    "\n",
    "\n",
    "#####     STEP 1 - CREATE EMPTY DATASET AND DEFINE CSV HEADINGS     ##### \n",
    "dataSet=[]\n",
    "columns=['name','age','profession'] # for CSV headings\n",
    "\n",
    "\n",
    "#####     STEP 2 - DEFINE FUNCTION TO WRITE RESULTS TO CSV FILE     #####\n",
    "\n",
    "def writeto_csv(data,filename,columns):\n",
    "    with open(filename,'w+',newline='',encoding=\"UTF-8\") as file:\n",
    "        writer = csv.DictWriter(file,fieldnames=columns)\n",
    "        writer.writeheader()\n",
    "        writer = csv.writer(file)\n",
    "        for element in data:\n",
    "            writer.writerows([element])\n",
    "\n",
    "\n",
    "name=\"Jordan\"\n",
    "age=8\n",
    "profession=\"chipmunk control\"\n",
    "\n",
    "dataSet.append([name, age, profession])\n",
    "\n",
    "writeto_csv(dataSet,'pets.csv',columns)"
   ]
  },
  {
   "cell_type": "markdown",
   "id": "70bc6217-e718-4f29-adba-650a8c2d681b",
   "metadata": {},
   "source": [
    "## .. with pandas"
   ]
  },
  {
   "cell_type": "code",
   "execution_count": 11,
   "id": "10b202d8-17e9-4af1-8455-45888358ed02",
   "metadata": {},
   "outputs": [],
   "source": [
    "import pandas as pd\n",
    "\n",
    "results=pd.DataFrame(columns=['name','age','profession'])\n",
    "\n",
    "name=\"Jordan\"\n",
    "age=8\n",
    "profession=\"chipmunk control\"\n",
    "\n",
    "pets={\n",
    "    \"name\":name,\n",
    "    \"age\":age,\n",
    "    \"profession\":profession\n",
    "    }\n",
    "\n",
    "add_row_to_results=pd.DataFrame(pets, index=[0])\n",
    "results=pd.concat([add_row_to_results, results], axis=0, ignore_index=True)\n",
    "results.to_csv('pets2.csv')\n"
   ]
  },
  {
   "cell_type": "code",
   "execution_count": null,
   "id": "a928ac98-bb0d-4972-9e6e-43ed987341fe",
   "metadata": {},
   "outputs": [],
   "source": []
  }
 ],
 "metadata": {
  "kernelspec": {
   "display_name": "Python 3 (ipykernel)",
   "language": "python",
   "name": "python3"
  },
  "language_info": {
   "codemirror_mode": {
    "name": "ipython",
    "version": 3
   },
   "file_extension": ".py",
   "mimetype": "text/x-python",
   "name": "python",
   "nbconvert_exporter": "python",
   "pygments_lexer": "ipython3",
   "version": "3.12.7"
  }
 },
 "nbformat": 4,
 "nbformat_minor": 5
}
