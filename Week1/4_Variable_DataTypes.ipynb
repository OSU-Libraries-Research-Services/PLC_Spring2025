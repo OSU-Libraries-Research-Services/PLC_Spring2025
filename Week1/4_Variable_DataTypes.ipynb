{
 "cells": [
  {
   "cell_type": "markdown",
   "id": "eeca3d9e-71ce-4cfe-9666-276f7b601c46",
   "metadata": {},
   "source": [
    "# Variables\n",
    "\n",
    "## Variable Names\n",
    "- Upper and lower case letters\n",
    "- Digits 0-9\n",
    "- Underscores (_)\n",
    "      - i.e. **no_spaces**\n",
    "\n",
    "## Variable Names Cannot ...\n",
    "- Include other punctuation (- . ! ? @)\n",
    "- Contain spaces\n",
    "- Start with a number\n",
    "- Use a reserved Python word\n",
    "  \n",
    "|            |           |            |            |            |\n",
    "| :----------| :-------- | :--------  | :--------  | :--------  |\n",
    "| False      | await     | continue   | import     | pass       |\n",
    "| True       | def       | except     | in         | raise      |\n",
    "| None       | del       | finally    | is         | return     |\n",
    "| and        | elif      | for        | lambda     | try        |\n",
    "| as         | else      | from       | nonlocal   | while      |\n",
    "| assert     | break     | global     | not        | with       |\n",
    "| async      | class     | if         | or         | yield      |\n",
    "\n",
    "# Unclear variable names\n"
   ]
  },
  {
   "cell_type": "code",
   "execution_count": null,
   "id": "9c0a7567-2266-4fcf-b042-ad188568545c",
   "metadata": {},
   "outputs": [],
   "source": [
    "import re\n",
    "from collections import Counter\n",
    "\n",
    "def sp(t):\n",
    "    lt = t.lower()\n",
    "    sw = re.split(\"\\W+\", lt)\n",
    "    return sw\n",
    "\n",
    "f = \"INSERT FILEPATH HERE\"\n",
    "ft = open(f, encoding=\"utf-8\").read()\n",
    "\n",
    "words = sp(ft)"
   ]
  },
  {
   "cell_type": "markdown",
   "id": "701e7fbb-49dc-4c1c-aa38-0d8beaafd108",
   "metadata": {},
   "source": [
    "# Clear variable names"
   ]
  },
  {
   "cell_type": "code",
   "execution_count": null,
   "id": "24c6b4ea-e783-4594-a3af-a3ea2ce191ff",
   "metadata": {},
   "outputs": [],
   "source": [
    "def split_into_words(any_chunk_of_text):\n",
    "    lowercase_text = any_chunk_of_text.lower()\n",
    "    split_words = re.split(\"\\W+\", lowercase_text)\n",
    "    return split_words\n",
    "\n",
    "filepath_of_text = \"INSERT FILEPATH HERE\"\n",
    "full_text = open(filepath_of_text, encoding=\"utf-8\").read()\n",
    "\n",
    "all_the_words = split_into_words(full_text)"
   ]
  },
  {
   "cell_type": "markdown",
   "id": "510e3b7f-8483-4989-b537-17592b10599f",
   "metadata": {},
   "source": [
    "# Reassign variables"
   ]
  },
  {
   "cell_type": "code",
   "execution_count": null,
   "id": "b7f69edb-6b33-4b46-803e-15e669e4e5a1",
   "metadata": {},
   "outputs": [],
   "source": [
    "#absolute path\n",
    "filepath_of_text = \"C:/Users/murphy.465/OneDrive - The Ohio State University/OneDrive/Annual Report/2025/plc/Week1/The-Yellow-Wallpaper_Charlotte-Perkins-Gilman.txt\""
   ]
  },
  {
   "cell_type": "code",
   "execution_count": null,
   "id": "46e78975-694a-45ed-b80a-3de9d7ab923a",
   "metadata": {},
   "outputs": [],
   "source": [
    "#relative path\n",
    "relative_filepath_of_text=\"The-Yellow-Wallpaper_Charlotte-Perkins-Gilman.txt\""
   ]
  },
  {
   "cell_type": "code",
   "execution_count": null,
   "id": "6ec711e9-320e-49f8-a840-f6b41f11fa14",
   "metadata": {},
   "outputs": [],
   "source": [
    "import re\n",
    "from collections import Counter\n",
    "\n",
    "def split_into_words(any_chunk_of_text):\n",
    "    lowercase_text = any_chunk_of_text.lower()\n",
    "    split_words = re.split(r\"\\W+\", lowercase_text)\n",
    "    return split_words\n",
    "\n",
    "filepath_of_text = \"INSERT FILEPATH HERE\"\n",
    "number_of_desired_words = 40\n",
    "\n",
    "stopwords = ['i', 'me', 'my', 'myself', 'we', 'our', 'ours', 'ourselves', 'you', 'your', 'yours',\n",
    " 'yourself', 'yourselves', 'he', 'him', 'his', 'himself', 'she', 'her', 'hers',\n",
    " 'herself', 'it', 'its', 'itself', 'they', 'them', 'their', 'theirs', 'themselves',\n",
    " 'what', 'which', 'who', 'whom', 'this', 'that', 'these', 'those', 'am', 'is', 'are',\n",
    " 'was', 'were', 'be', 'been', 'being', 'have', 'has', 'had', 'having', 'do', 'does',\n",
    " 'did', 'doing', 'a', 'an', 'the', 'and', 'but', 'if', 'or', 'because', 'as', 'until',\n",
    " 'while', 'of', 'at', 'by', 'for', 'with', 'about', 'against', 'between', 'into',\n",
    " 'through', 'during', 'before', 'after', 'above', 'below', 'to', 'from', 'up', 'down',\n",
    " 'in', 'out', 'on', 'off', 'over', 'under', 'again', 'further', 'then', 'once', 'here',\n",
    " 'there', 'when', 'where', 'why', 'how', 'all', 'any', 'both', 'each', 'few', 'more',\n",
    " 'most', 'other', 'some', 'such', 'no', 'nor', 'not', 'only', 'own', 'same', 'so',\n",
    " 'than', 'too', 'very', 's', 't', 'can', 'will', 'just', 'don', 'should', 'now', 've', 'll', 'amp']\n",
    "full_text = open(filepath_of_text, encoding=\"utf-8\").read()\n",
    "\n",
    "all_the_words = split_into_words(full_text)\n",
    "meaningful_words = [word for word in all_the_words if word not in stopwords]\n",
    "meaningful_words_tally = Counter(meaningful_words)\n",
    "most_frequent_meaningful_words = meaningful_words_tally.most_common(number_of_desired_words)\n",
    "\n",
    "most_frequent_meaningful_words"
   ]
  },
  {
   "cell_type": "markdown",
   "id": "5890c6a6-1fae-4f56-88d6-71f9c88db697",
   "metadata": {},
   "source": [
    "# Data Types\n",
    "- Strings (text)\n",
    "- Integers (whole numbers)\n",
    "- Floats (decimal numbers)\n",
    "- Booleans (True/False conditions)\n",
    "- Lists [ ]\n",
    "- Dictionaries { }\n",
    "- Tuples ( )"
   ]
  },
  {
   "cell_type": "code",
   "execution_count": null,
   "id": "54a1be9d-0b42-43bf-b6ba-f1259d9be084",
   "metadata": {},
   "outputs": [],
   "source": [
    "#Import Libraries and Modules\n",
    "\n",
    "import re\n",
    "from collections import Counter\n",
    "\n",
    "#Define Functions\n",
    "\n",
    "def split_into_words(any_chunk_of_text):\n",
    "    lowercase_text = any_chunk_of_text.lower()\n",
    "    split_words = re.split(\"\\W+\", lowercase_text)\n",
    "    return split_words\n",
    "\n",
    "#Define Filepaths and Assign Variables\n",
    "\n",
    "filepath_of_text = \"Beyonce-Lemonade.txt\"\n",
    "number_of_desired_words = 40\n",
    "\n",
    "stopwords = ['i', 'me', 'my', 'myself', 'we', 'our', 'ours', 'ourselves', 'you', 'your', 'yours',\n",
    "'yourself', 'yourselves', 'he', 'him', 'his', 'himself', 'she', 'her', 'hers',\n",
    " 'herself', 'it', 'its', 'itself', 'they', 'them', 'their', 'theirs', 'themselves',\n",
    " 'what', 'which', 'who', 'whom', 'this', 'that', 'these', 'those', 'am', 'is', 'are',\n",
    " 'was', 'were', 'be', 'been', 'being', 'have', 'has', 'had', 'having', 'do', 'does',\n",
    " 'did', 'doing', 'a', 'an', 'the', 'and', 'but', 'if', 'or', 'because', 'as', 'until',\n",
    " 'while', 'of', 'at', 'by', 'for', 'with', 'about', 'against', 'between', 'into',\n",
    " 'through', 'during', 'before', 'after', 'above', 'below', 'to', 'from', 'up', 'down',\n",
    " 'in', 'out', 'on', 'off', 'over', 'under', 'again', 'further', 'then', 'once', 'here',\n",
    " 'there', 'when', 'where', 'why', 'how', 'all', 'any', 'both', 'each', 'few', 'more',\n",
    " 'most', 'other', 'some', 'such', 'no', 'nor', 'not', 'only', 'own', 'same', 'so',\n",
    " 'than', 'too', 'very', 's', 't', 'can', 'will', 'just', 'don', 'should', 'now', 've', 'll', 'amp']\n",
    "\n",
    "#Read in File\n",
    "\n",
    "full_text = open(filepath_of_text, encoding=\"utf-8\").read()\n",
    "\n",
    "#Manipulate and Analyze File\n",
    "\n",
    "all_the_words = split_into_words(full_text)\n",
    "meaningful_words = [word for word in all_the_words if word not in stopwords]\n",
    "meaningful_words_tally = Counter(meaningful_words)\n",
    "most_frequent_meaningful_words = meaningful_words_tally.most_common(number_of_desired_words)\n",
    "\n",
    "#Output Results\n",
    "\n",
    "most_frequent_meaningful_words"
   ]
  },
  {
   "cell_type": "markdown",
   "id": "6d138e53-7996-4a06-ba54-9abba0866000",
   "metadata": {},
   "source": [
    "# Check Data Types"
   ]
  },
  {
   "cell_type": "code",
   "execution_count": null,
   "id": "3ffe3f5d-b659-47e6-af05-3eb0a455ba77",
   "metadata": {},
   "outputs": [],
   "source": [
    "type(filepath_of_text)"
   ]
  },
  {
   "cell_type": "code",
   "execution_count": null,
   "id": "0a1ba9eb-4588-447a-abe2-156e6081525b",
   "metadata": {},
   "outputs": [],
   "source": [
    "type(number_of_desired_words)"
   ]
  },
  {
   "cell_type": "code",
   "execution_count": null,
   "id": "8cedfafa-43c2-4d17-872a-a62d1e3a3df7",
   "metadata": {},
   "outputs": [],
   "source": [
    "type(stopwords)"
   ]
  },
  {
   "cell_type": "code",
   "execution_count": null,
   "id": "c2fe1dc4-c1c2-4b39-aac6-a2524017ff36",
   "metadata": {},
   "outputs": [],
   "source": [
    "total_number=100"
   ]
  },
  {
   "cell_type": "code",
   "execution_count": null,
   "id": "616e4fbd-f4a3-4064-90af-ef19888bfd80",
   "metadata": {},
   "outputs": [],
   "source": [
    "total_number"
   ]
  },
  {
   "cell_type": "code",
   "execution_count": null,
   "id": "57103237-93ea-41ba-be30-7e462b2524ec",
   "metadata": {},
   "outputs": [],
   "source": [
    "print(total_number)"
   ]
  },
  {
   "cell_type": "code",
   "execution_count": null,
   "id": "962e98c0-e461-472a-a3f5-ad6188177288",
   "metadata": {},
   "outputs": [],
   "source": [
    "2+2 == 4"
   ]
  },
  {
   "cell_type": "code",
   "execution_count": null,
   "id": "d185c03e-8b19-4be8-99d0-5e5a89cb6985",
   "metadata": {},
   "outputs": [],
   "source": [
    "type(total_number)"
   ]
  },
  {
   "cell_type": "markdown",
   "id": "39c0d031-1863-49f6-a787-c17fa1a5c5f1",
   "metadata": {},
   "source": [
    "# Python Math\n",
    "Check out Python's documentation to learn more about Python's **[math](https://docs.python.org/3/library/stdtypes.html#numeric-types-int-float-complex)** operators\n",
    "\n",
    "| **Opeartion**          | **Result**           |   \n",
    "| :----------| :-------- |\n",
    "| x + y     | sum of x and y     | \n",
    "| x - y       | difference of x and y       | \n",
    "| x * y       | product of x and y     | \n",
    "| x / y | quotient of x and y      | \n",
    "| x // y       | floored quotient of x and y      | \n",
    "| x % y    | remainder of x/y     | \n",
    "| -x      | x negated     | \n",
    "| +x      | x unchanged   |\n",
    "| abs(x)  | absolute value or magnitude of x |\n",
    "| int(x)  | x converted to integer |\n",
    "| float(x) | x converted to floating point |\n",
    "| pow(x,y) | x to the power y |\n",
    "| x**y | x to the power y |"
   ]
  },
  {
   "cell_type": "code",
   "execution_count": null,
   "id": "ccfbc1c4-b7a5-4367-8517-40e607285493",
   "metadata": {},
   "outputs": [],
   "source": []
  }
 ],
 "metadata": {
  "kernelspec": {
   "display_name": "Python 3 (ipykernel)",
   "language": "python",
   "name": "python3"
  },
  "language_info": {
   "codemirror_mode": {
    "name": "ipython",
    "version": 3
   },
   "file_extension": ".py",
   "mimetype": "text/x-python",
   "name": "python",
   "nbconvert_exporter": "python",
   "pygments_lexer": "ipython3",
   "version": "3.12.7"
  }
 },
 "nbformat": 4,
 "nbformat_minor": 5
}
