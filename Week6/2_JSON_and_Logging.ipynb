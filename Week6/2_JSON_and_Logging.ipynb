{
 "cells": [
  {
   "cell_type": "markdown",
   "id": "8cc41b8a-8675-40d3-82db-f74138406f1c",
   "metadata": {},
   "source": [
    "# Logging \n",
    "\n",
    "APIs sometimes return [error codes](https://en.wikipedia.org/wiki/List_of_HTTP_status_codes) which interrupt our program's execution. Logging tells Python how to handle these errors. It can also help to identify issues with your code."
   ]
  },
  {
   "cell_type": "code",
   "execution_count": null,
   "id": "04667d12-8ca1-48b5-a864-57bdba5a0693",
   "metadata": {},
   "outputs": [],
   "source": [
    "import logging\n",
    "\n",
    "#  Configure logging\n",
    "formatstring=\"%(asctime)s - %(levelname)s - %(message)s\"\n",
    "datestring=\"%m/%d/%Y %I%M%S %p\"\n",
    "logging.basicConfig(filename=\"cr_errors_find_dois.log\", level=logging.ERROR, format=formatstring, datefmt=datestring)\n",
    "\n",
    "# Define function to request url and log HTTP errors\n",
    "def lookup(target_doi):\n",
    "    try:\n",
    "        url=base_url+target_doi\n",
    "        response=requests.get(url)\n",
    "        response.raise_for_status() #Raise an HTTP Error for bad responses\n",
    "        json_data = response.json() #Parse JSON response\n",
    "        return json_data\n",
    "    except requests.exceptions.HTTPError as http_err:\n",
    "        logging.error(f\"HTTP Error = {http_err}\") # Log the HTTP error\n",
    "        time.sleep(10)\n",
    "    except Exception as err:\n",
    "        logging.error(f\"Other error = {err}\") #Log any other errors\n",
    "        time.sleep(10)"
   ]
  },
  {
   "cell_type": "markdown",
   "id": "2819114a-8100-4a61-bf92-cff3ffbc67cc",
   "metadata": {},
   "source": [
    "# JSON\n",
    "\n",
    "JSON is an easy to read data format that resembles Python dictionaries. JSON data is parsed by looping through key|value pairs.\n",
    "\n",
    "\n"
   ]
  },
  {
   "cell_type": "code",
   "execution_count": null,
   "id": "0979c4f0-fc65-4435-8ecb-a8a5524cad9b",
   "metadata": {},
   "outputs": [],
   "source": [
    "pet1 = {\"name\":\"Jordan\",\n",
    "        \"age\":8,\n",
    "        \"profession\":\"chief chipmunk control officer\"}\n",
    "\n",
    "pet1[\"name\"]\n",
    "\n",
    "\n"
   ]
  },
  {
   "cell_type": "code",
   "execution_count": null,
   "id": "6ed979e6-657f-40c7-b175-8264cf7ada98",
   "metadata": {},
   "outputs": [],
   "source": [
    "pets={\"dog\":{\"name\":\"Jordan\",\"age\":8},\n",
    "      \"cat\":{\"name\":\"Oreo\",\"age\":14}}\n",
    "\n",
    "\n",
    "pets[\"dog\"]['name']"
   ]
  },
  {
   "cell_type": "markdown",
   "id": "316e2817-3dfe-4bad-bb74-f9d49775fead",
   "metadata": {},
   "source": [
    "# Activity: Crossref API\n",
    "\n",
    "- Use the doi.csv file first find the publisher, article_title, journal_title, journal_abbr, year, and\n",
    "reference_count for each doi using the Crossref works API.\n",
    "\n",
    "- Then find the dois for articles referenced by the doi.\n",
    "Find reference lists for an Ohio State publication supported by\n",
    "a NSF award search .\n",
    "\n",
    "- Gather 'doi','reference_count','reference_doi','last_updated'\n"
   ]
  },
  {
   "cell_type": "code",
   "execution_count": null,
   "id": "e7dc979c-18f2-421f-ba69-e15168b6ce2a",
   "metadata": {},
   "outputs": [],
   "source": []
  }
 ],
 "metadata": {
  "kernelspec": {
   "display_name": "Python 3 (ipykernel)",
   "language": "python",
   "name": "python3"
  },
  "language_info": {
   "codemirror_mode": {
    "name": "ipython",
    "version": 3
   },
   "file_extension": ".py",
   "mimetype": "text/x-python",
   "name": "python",
   "nbconvert_exporter": "python",
   "pygments_lexer": "ipython3",
   "version": "3.12.7"
  }
 },
 "nbformat": 4,
 "nbformat_minor": 5
}
