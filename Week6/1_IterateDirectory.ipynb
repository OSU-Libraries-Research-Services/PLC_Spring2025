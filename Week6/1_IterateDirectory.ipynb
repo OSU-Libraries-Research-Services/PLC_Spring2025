{
 "cells": [
  {
   "cell_type": "markdown",
   "id": "6cea9b0c-63e1-45f6-801e-aab2c7fc90b0",
   "metadata": {},
   "source": [
    "# Iterate through files in a directory"
   ]
  },
  {
   "cell_type": "markdown",
   "id": "1e27557c-a2c9-4a1b-a407-a7efdbbf6370",
   "metadata": {},
   "source": [
    "## Simple approach\n",
    "\n",
    "Works if you know number of files you're working with\n"
   ]
  },
  {
   "cell_type": "code",
   "execution_count": null,
   "id": "894143d2-26fe-4b5d-ad02-b5a4820a898f",
   "metadata": {},
   "outputs": [],
   "source": [
    "# I want to iterate through a directory where files are consistently named file1.txt, file2.txt, file3.txt, etc....\n",
    "start = 1\n",
    "stop = 5 # total number of files you're working with +1\n",
    "filepath_root = 'file'\n",
    "filepath_suffix = '.txt'\n",
    "for i in range(start, stop):\n",
    "    filepath=filepath_root+str(i)+filepath_suffix\n",
    "    print(filepath)\n",
    "    #contents=open(filepath, encoding='utf-8').read()"
   ]
  },
  {
   "cell_type": "markdown",
   "id": "c7ee04e4-1352-42f8-af72-a214fc3d8625",
   "metadata": {},
   "source": [
    "## [pathlib](https://docs.python.org/3/library/pathlib.html)\n",
    "\n",
    "For a more sophisticated approach, use the pathlib module. The `*` character matches anything in the directory path. "
   ]
  },
  {
   "cell_type": "code",
   "execution_count": 4,
   "id": "c66fd3c8-828d-455e-a436-43ad8e017060",
   "metadata": {},
   "outputs": [],
   "source": [
    "from pathlib import Path\n",
    "directory_path=\"INSERT PATH HERE\"\n",
    "for filepath in Path(directory_path).glob('*'):\n",
    "    print(filepath)"
   ]
  },
  {
   "cell_type": "markdown",
   "id": "a0e489d2-f004-4555-9f55-3c76254fcfba",
   "metadata": {},
   "source": [
    "To find .csv files only, type `*.csv`"
   ]
  },
  {
   "cell_type": "code",
   "execution_count": null,
   "id": "86ff8451-5d49-43ab-a4d5-679c47114bcf",
   "metadata": {},
   "outputs": [],
   "source": [
    "from pathlib import Path\n",
    "directory_path=\"INSERT PATH HERE\"\n",
    "for filepath in Path(directory_path).glob('*.csv'):\n",
    "    print(filepath)"
   ]
  },
  {
   "cell_type": "markdown",
   "id": "d061cb4d-94cc-4e88-99ec-4f7dc9eacd9b",
   "metadata": {},
   "source": [
    "To read each file, use an `open( )` function with a `.read( )` method."
   ]
  },
  {
   "cell_type": "code",
   "execution_count": null,
   "id": "14b657d8-e0ab-421a-b531-d07f83632c3c",
   "metadata": {},
   "outputs": [],
   "source": [
    "from pathlib import Path\n",
    "\n",
    "directory_path=\"INSERT PATH HERE\"\n",
    "for filepath in Path(directory_path).glob('*.csv'):\n",
    "    contents=open(filepath, encoding='utf-8').read()\n",
    "    print(contents)"
   ]
  },
  {
   "cell_type": "markdown",
   "id": "1b7f5a21-5230-4288-b347-619b9ea0fc82",
   "metadata": {},
   "source": [
    "# Activity: OhioLINK ETD\n",
    "\n",
    "Search the [OhioLINK ETD](https://etd.ohiolink.edu/acprod/odb_etd/r/etd/search/search-results?p1001_advanced=1&clear=0,1001) for dissertations submitted by English PhD students\n",
    "between 2015 and 2024. Find the dissertation title, author, degree, degree_year,\n",
    "advisor(s), committee members, and subjects for each student."
   ]
  },
  {
   "cell_type": "code",
   "execution_count": null,
   "id": "72218002-47b6-4e76-90eb-05b84e53aa7b",
   "metadata": {},
   "outputs": [],
   "source": []
  }
 ],
 "metadata": {
  "kernelspec": {
   "display_name": "Python 3 (ipykernel)",
   "language": "python",
   "name": "python3"
  },
  "language_info": {
   "codemirror_mode": {
    "name": "ipython",
    "version": 3
   },
   "file_extension": ".py",
   "mimetype": "text/x-python",
   "name": "python",
   "nbconvert_exporter": "python",
   "pygments_lexer": "ipython3",
   "version": "3.12.7"
  }
 },
 "nbformat": 4,
 "nbformat_minor": 5
}
